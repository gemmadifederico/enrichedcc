{
 "cells": [
  {
   "cell_type": "code",
   "execution_count": 1,
   "metadata": {},
   "outputs": [
    {
     "name": "stdout",
     "output_type": "stream",
     "text": [
      "importing Jupyter notebook from Mining.ipynb\n"
     ]
    }
   ],
   "source": [
    "from pm4py.objects.log.importer.xes import importer as xes_importer\n",
    "import import_ipynb\n",
    "from Statsdata import (get_freq_fitness, get_duration_fitness, get_time_fitness, get_activity_freq_stats, get_activity_duration_stats, \n",
    "get_freq_hour_normalized, get_freq_position_normalized, get_position_fitness, get_trace_length_stats, get_length_fitness)\n",
    "from Mining import discovery_inductive, discovery_heuristic, conformance\n",
    "import subprocess\n",
    "import csv\n",
    "import sys\n",
    "import os\n",
    "import uuid\n",
    "import pandas as pd\n",
    "from prettytable import PrettyTable as pt\n"
   ]
  },
  {
   "cell_type": "code",
   "execution_count": 11,
   "metadata": {},
   "outputs": [],
   "source": [
    "def writeTable(stats, title, f):\n",
    "        # Creating object\n",
    "        tt = pt([\"\"])\n",
    "        # Adding rows\n",
    "        for stat, values in stats.items():\n",
    "                tb = pt()\n",
    "                rows = []\n",
    "                if(type(values) != dict):\n",
    "                        tb.add_row([values])\n",
    "                else:\n",
    "                        for act, value in values.items():\n",
    "                                tb.add_row([act, value])\n",
    "                tt.add_row([tb.get_string(title=stat, header=False)])\n",
    "        tt.align[\"\"] = \"l\"\n",
    "        \n",
    "        f.write(tt.get_string(title=title, header=False) + \"\\n\")"
   ]
  },
  {
   "cell_type": "markdown",
   "metadata": {},
   "source": [
    "## Log import"
   ]
  },
  {
   "cell_type": "code",
   "execution_count": 12,
   "metadata": {},
   "outputs": [
    {
     "name": "stderr",
     "output_type": "stream",
     "text": [
      "parsing log, completed traces :: 100%|██████████| 1000/1000 [00:00<00:00, 3611.49it/s]\n",
      "parsing log, completed traces :: 100%|██████████| 1000/1000 [00:00<00:00, 4572.44it/s]\n"
     ]
    },
    {
     "name": "stdout",
     "output_type": "stream",
     "text": [
      "Discovering using Inductive...\n",
      "Done\n",
      "Discovering using Heuristic...\n",
      "Done\n",
      "Discovering of DCRgraph...\n",
      "Discovering frequency stats...\n",
      "Done\n",
      "Discovering duration stats...\n",
      "Done\n",
      "Discovering time stats...\n",
      "Done\n",
      "Discovering frequency in positions...\n",
      "Done\n",
      "Discovering trace length stats...\n",
      "{'Mean': 4.02, 'Median': 4.0, 'StDev': 1.6304165904020538, 'Min': 2, 'Max': 6}\n",
      "Done\n",
      "Conformance checking from Inductive...\n"
     ]
    },
    {
     "name": "stderr",
     "output_type": "stream",
     "text": [
      "aligning log, completed variants :: 100%|██████████| 3/3 [00:00<00:00, 598.39it/s]\n"
     ]
    },
    {
     "name": "stdout",
     "output_type": "stream",
     "text": [
      "Done\n",
      "Conformance checking from Heuristic...\n"
     ]
    },
    {
     "name": "stderr",
     "output_type": "stream",
     "text": [
      "aligning log, completed variants :: 100%|██████████| 3/3 [00:00<00:00, 498.97it/s]"
     ]
    },
    {
     "name": "stdout",
     "output_type": "stream",
     "text": [
      "Done\n",
      "Conformance of DCR...\n",
      "Done\n",
      "Conformance of Palia...\n"
     ]
    },
    {
     "name": "stderr",
     "output_type": "stream",
     "text": [
      "\n"
     ]
    },
    {
     "ename": "FileNotFoundError",
     "evalue": "[Errno 2] No such file or directory: 'paliacc.txt'",
     "output_type": "error",
     "traceback": [
      "\u001b[1;31m---------------------------------------------------------------------------\u001b[0m",
      "\u001b[1;31mFileNotFoundError\u001b[0m                         Traceback (most recent call last)",
      "Cell \u001b[1;32mIn [12], line 7\u001b[0m\n\u001b[0;32m      5\u001b[0m path_logA \u001b[38;5;241m=\u001b[39m \u001b[38;5;124m\"\u001b[39m\u001b[38;5;124m../Example/Scenario1/logNormal.xes\u001b[39m\u001b[38;5;124m\"\u001b[39m\n\u001b[0;32m      6\u001b[0m path_logB \u001b[38;5;241m=\u001b[39m \u001b[38;5;124m\"\u001b[39m\u001b[38;5;124m../Example/Scenario1/logDur.xes\u001b[39m\u001b[38;5;124m\"\u001b[39m\n\u001b[1;32m----> 7\u001b[0m execall(path_logA, path_logB)\n",
      "Cell \u001b[1;32mIn [3], line 108\u001b[0m, in \u001b[0;36mexecall\u001b[1;34m(path_logA, path_logB)\u001b[0m\n\u001b[0;32m    105\u001b[0m subprocess\u001b[38;5;241m.\u001b[39mcall([\u001b[38;5;124m'\u001b[39m\u001b[38;5;124mjava\u001b[39m\u001b[38;5;124m'\u001b[39m, \u001b[38;5;124m'\u001b[39m\u001b[38;5;124m-jar\u001b[39m\u001b[38;5;124m'\u001b[39m, \u001b[38;5;124m'\u001b[39m\u001b[38;5;124mpalia-discovery.jar\u001b[39m\u001b[38;5;124m'\u001b[39m, path_logA, path_logB])\n\u001b[0;32m    107\u001b[0m \u001b[38;5;66;03m# The total fitness value is saved in the file dcrcc.txt\u001b[39;00m\n\u001b[1;32m--> 108\u001b[0m f \u001b[38;5;241m=\u001b[39m \u001b[38;5;28;43mopen\u001b[39;49m\u001b[43m(\u001b[49m\u001b[38;5;124;43m\"\u001b[39;49m\u001b[38;5;124;43mpaliacc.txt\u001b[39;49m\u001b[38;5;124;43m\"\u001b[39;49m\u001b[43m,\u001b[49m\u001b[43m \u001b[49m\u001b[38;5;124;43m\"\u001b[39;49m\u001b[38;5;124;43mr\u001b[39;49m\u001b[38;5;124;43m\"\u001b[39;49m\u001b[43m)\u001b[49m\n\u001b[0;32m    109\u001b[0m \u001b[38;5;28;01mfor\u001b[39;00m line \u001b[38;5;129;01min\u001b[39;00m f:\n\u001b[0;32m    110\u001b[0m     ccpalia \u001b[38;5;241m=\u001b[39m \u001b[38;5;28mfloat\u001b[39m(line)\n",
      "\u001b[1;31mFileNotFoundError\u001b[0m: [Errno 2] No such file or directory: 'paliacc.txt'"
     ]
    }
   ],
   "source": [
    "# Just for testing\n",
    "# logB = xes_importer.apply(\"../logNormal.xes\")\n",
    "# logA = xes_importer.apply(\"../logFreq.xes\")\n",
    "\n",
    "# path_logA = \"../Example/Scenario1/logNormal.xes\"\n",
    "# path_logB = \"../Example/Scenario1/logDur.xes\"\n",
    "# discovery(\"../Example/Scenario1/logNormal.xes\", \"../Example/Scenario1/logFreq.xes\")\n"
   ]
  },
  {
   "cell_type": "code",
   "execution_count": 3,
   "metadata": {},
   "outputs": [],
   "source": [
    "def execall(path_logA, path_logB):\n",
    "    logA = xes_importer.apply(path_logA)\n",
    "    logB = xes_importer.apply(path_logB)\n",
    "\n",
    "    # Discovery using Inductive\n",
    "    print(\"Discovering using Inductive...\")\n",
    "    pind, filename_ind = discovery_inductive(logB)\n",
    "    print(\"Done\")\n",
    "\n",
    "    # Discovery using Heuristic\n",
    "    print(\"Discovering using Heuristic...\")\n",
    "    pheu, filename_heu = discovery_heuristic(logA)\n",
    "    print(\"Done\")\n",
    "\n",
    "    # Discovery of DCR\n",
    "    # java -jar \"dcr-discovery.jar\" \"path xes\" \"path JSON .JSON\"\n",
    "    print(\"Discovering of DCRgraph...\")\n",
    "    PATH = 'Models'\n",
    "    if not os.path.exists(PATH):\n",
    "        os.makedirs(PATH)\n",
    "    filepath_dcr = \"Models\\dcr_\"+str(uuid.uuid4())+\".JSON\"\n",
    "    subprocess.call(['java', '-jar', 'dcr-discovery.jar', path_logA, filepath_dcr])\n",
    "\n",
    "    # Discovery of Palia\n",
    "    # java -jar \"palia-discovery.jar\" \"path xes\"\n",
    "    print(\"Discovering of Palia graph...\")\n",
    "    filepath_palia = \"Models\\palia_\"+str(uuid.uuid4())+\".JSON\"\n",
    "    subprocess.call(['java', '-jar', 'palia-discovery.jar', path_logA, filepath_palia])\n",
    "\n",
    "    f = open(\"Model\\Discovery_stats_\"+str(uuid.uuid4())+\".txt\", \"w\")\n",
    "\n",
    "    # Discovery of freq stats\n",
    "    print(\"Discovering frequency stats...\")\n",
    "    fstats, attrvalues = get_activity_freq_stats(logA)\n",
    "    writeTable(fstats, \"Frequency\", f)\n",
    "    # fsum, fmean, fmedian, fstdev, fmin, fmax\n",
    "    print(\"Done\")\n",
    "\n",
    "    # Discovery of duration stats\n",
    "    print(\"Discovering duration stats...\")\n",
    "    dstats = get_activity_duration_stats(logA)\n",
    "    if(dstats is None):\n",
    "        print(\"No timestamp attribute defined\")\n",
    "    else: \n",
    "        writeTable(dstats, \"Duration\", f)\n",
    "    #  dmean, dmedian, dmin, dmax, dstdev\n",
    "    print(\"Done\")\n",
    "\n",
    "    # Discovery of absolute time stats\n",
    "    print(\"Discovering time stats...\")\n",
    "    abstime = get_freq_hour_normalized(logA)\n",
    "    if(abstime is None):\n",
    "        print(\"No timestamp attribute defined\")\n",
    "    else: \n",
    "        writeTable(abstime, \"Absolute time\", f)\n",
    "    print(\"Done\")\n",
    "\n",
    "    # Discovery of freq position stats\n",
    "    print(\"Discovering frequency in positions...\")\n",
    "    posfreq = get_freq_position_normalized(logA)\n",
    "    writeTable(posfreq, \"Position frequency\", f)\n",
    "    print(\"Done\")\n",
    "\n",
    "    # Discovery of traces length stats\n",
    "    print(\"Discovering trace length stats...\")\n",
    "    lenstats = get_trace_length_stats(logA)\n",
    "    writeTable(lenstats, \"Trace length\", f)\n",
    "    print(\"Done\")\n",
    "\n",
    "    f.close()\n",
    "    # with open('Discovery.csv', 'w', newline=\"\") as f:\n",
    "    #     writer = csv.writer(f)\n",
    "    #     writer.writerow([\"Frequency statistics\"])\n",
    "    #     for stat in fstats:\n",
    "    #         writer.writerow(stat)\n",
    "    #     print(\"Done\")\n",
    "\n",
    "    ##################################################################\n",
    "    ##################################################################\n",
    "    # Conformance checking (alignment) from Inductive\n",
    "    print(\"Conformance checking from Inductive...\")\n",
    "    ccind_traces, ccind = conformance(filename_ind, logA, logB)\n",
    "    print(\"Done\")\n",
    "\n",
    "    # Conformance checking (alignment) from Heuristic\n",
    "    print(\"Conformance checking from Heuristic...\")\n",
    "    ccheu_traces, ccheu = conformance(filename_heu, logA, logB)\n",
    "    print(\"Done\")\n",
    "\n",
    "    # Conformance checking of DCR\n",
    "    # java -jar \"dcr-conformance.jar\" \"path model .JSON\" \"path logB\" open world flag\n",
    "    print(\"Conformance of DCR...\")\n",
    "    subprocess.call(['java', '-jar', 'dcr-conformance.jar', filepath_dcr, path_logB, \"FALSE\"])\n",
    "\n",
    "    # The total fitness value is saved in the file dcrcc.txt\n",
    "    f = open(\"dcrcc.txt\", \"r\")\n",
    "    for line in f:\n",
    "        ccdcr = float(line)\n",
    "    f.close()\n",
    "    print(\"Done\")\n",
    "\n",
    "    # Conformance checking of Palia\n",
    "    # java -jar \"palia-conformance.jar\" \"path model .JSON\" \"path logB\"\n",
    "    print(\"Conformance of Palia...\")\n",
    "    subprocess.call(['java', '-jar', 'palia-conformance.jar', filepath_palia, path_logB])\n",
    "\n",
    "    # The total fitness value is saved in the file paliacc.txt\n",
    "    f = open(\"paliacc.txt\", \"r\")\n",
    "    for line in f:\n",
    "        ccpalia = float(line)\n",
    "    f.close()\n",
    "    print(\"Done\")\n",
    "\n",
    "    # Conformance of frequency\n",
    "    print(\"Conformance of frequency...\")\n",
    "    ccfreq_ev, ccfreq_traces, ccfreq = get_freq_fitness(fstats, attrvalues, logB)\n",
    "    print(\"Done\")\n",
    "\n",
    "    # Conformance of duration\n",
    "    if(not dstats is None):\n",
    "        print(\"Conformance of duration...\")\n",
    "        ccdur_ev, ccdur_traces, ccdur = get_duration_fitness(dstats, attrvalues, logB)\n",
    "        print(\"Done\")\n",
    "    else: ccdur = \"\"\n",
    "\n",
    "    # Get fitness of absolute time\n",
    "    if(not abstime is None):\n",
    "        print(\"Absolute time comparison...\")\n",
    "        cctime_act, cctime = get_time_fitness(abstime, logB)\n",
    "        print(\"Done\")\n",
    "    else: cctime = \"\"\n",
    "\n",
    "    # Get fitness of events positions\n",
    "    print(\"Position frequency comparison...\")\n",
    "    ccpos_act, ccpos = get_position_fitness(posfreq, logB)\n",
    "    print(\"Done\")\n",
    "\n",
    "    # Get fitness of trace length\n",
    "    print(\"Trace length comparison...\")\n",
    "    cclen_traces, cclen = get_length_fitness(lenstats, logB)\n",
    "    print(\"Done\")\n",
    "\n",
    "    # ccfreq \n",
    "    # ccdur \n",
    "    # ccheu\n",
    "    # ccind\n",
    "    # ccdcr\n",
    "    # ccdecl\n",
    "\n",
    "    header = [\"logA\", \"logB\", \"CCHeu\", \"CCInd\", \"CCDcr\",\"CCPalia\", \"CCFreq\", \"CCDur\", \"CCTime\", \"CCPos\", \"CCLen\"]\n",
    "    values = [path_logA, path_logB, ccheu, ccind, ccdcr, ccpalia, ccfreq, ccdur, cctime, ccpos, cclen]\n",
    "    print(\"Writing the results...\")\n",
    "    # open the file in the write mode\n",
    "\n",
    "    # Create File\n",
    "    if not os.path.exists('Results.csv'):\n",
    "        print(\"Creating file...\")\n",
    "        with open('Results.csv', 'w', newline=\"\") as f:\n",
    "            writer = csv.writer(f)\n",
    "            writer.writerow(header)\n",
    "            writer.writerow(values)\n",
    "            print(\"Done\")\n",
    "    else:\n",
    "        with open('Results.csv', 'a', newline=\"\") as f:\n",
    "            writer = csv.writer(f)\n",
    "            writer.writerow(values)\n",
    "            print(\"Done\")\n"
   ]
  },
  {
   "cell_type": "code",
   "execution_count": null,
   "metadata": {},
   "outputs": [],
   "source": [
    "A = sys.argv[1]\n",
    "for i in range(2, len(sys.argv)):\n",
    "    B = sys.argv[i] \n",
    "    execall(A,B)\n",
    "    print(\"####################\")\n",
    "    print(\"TASKS COMPLETED\")\n",
    "    print(\"####################\")"
   ]
  }
 ],
 "metadata": {
  "interpreter": {
   "hash": "1b5acb681577528e2aff85da35659397b1a3d39ac070b6fb3442068ab6131df9"
  },
  "kernelspec": {
   "display_name": "Python 3.10.4 64-bit",
   "language": "python",
   "name": "python3"
  },
  "language_info": {
   "codemirror_mode": {
    "name": "ipython",
    "version": 3
   },
   "file_extension": ".py",
   "mimetype": "text/x-python",
   "name": "python",
   "nbconvert_exporter": "python",
   "pygments_lexer": "ipython3",
   "version": "3.10.4"
  },
  "orig_nbformat": 4
 },
 "nbformat": 4,
 "nbformat_minor": 2
}
