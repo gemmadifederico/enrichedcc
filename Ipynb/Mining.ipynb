{
 "cells": [
  {
   "cell_type": "code",
   "execution_count": 5,
   "metadata": {},
   "outputs": [],
   "source": [
    "from pm4py.algo.conformance.alignments.petri_net import algorithm as alignments\n",
    "from pm4py.objects.log.importer.xes import importer as xes_importer\n",
    "from pm4py.visualization.petri_net import visualizer as pn_visualizer\n",
    "import pm4py\n",
    "import uuid\n",
    "import os\n"
   ]
  },
  {
   "cell_type": "markdown",
   "metadata": {},
   "source": [
    "## DISCOVERY INDUCTIVE AND HEURISTIC"
   ]
  },
  {
   "cell_type": "code",
   "execution_count": 3,
   "metadata": {},
   "outputs": [],
   "source": [
    "def discovery_inductive(log, uuidstr):\n",
    "    ind = pm4py.discover_petri_net_inductive(log)\n",
    "    gviz = pn_visualizer.apply(ind[0], ind[1], ind[2])\n",
    "    PATH = 'Models'\n",
    "    if not os.path.exists(PATH):\n",
    "        os.makedirs(PATH)\n",
    "    filename = \"Models/ind_\"+uuidstr\n",
    "    pn_visualizer.save(gviz, filename+\".png\")\n",
    "    pm4py.write_pnml(ind[0], ind[1], ind[2], filename+\".pnml\")\n",
    "    return ind, filename\n",
    "def discovery_heuristic(log, uuidstr):\n",
    "    PATH = 'Models'\n",
    "    if not os.path.exists(PATH):\n",
    "        os.makedirs(PATH)\n",
    "    heu = pm4py.discover_petri_net_heuristics(log)\n",
    "    gviz = pn_visualizer.apply(heu[0], heu[1], heu[2])\n",
    "    filename = \"Models/heu_\"+uuidstr\n",
    "    pn_visualizer.save(gviz, filename+\".png\")\n",
    "    pm4py.write_pnml(heu[0], heu[1], heu[2], filename + \".pnml\")\n",
    "    return heu, filename\n"
   ]
  },
  {
   "cell_type": "markdown",
   "metadata": {},
   "source": [
    "## CONFORMANCE - ALIGNMENT"
   ]
  },
  {
   "cell_type": "code",
   "execution_count": null,
   "metadata": {},
   "outputs": [],
   "source": [
    "def conformance_old (logA, logB, alg):\n",
    "    if(alg == \"Inductive\"):\n",
    "        pn = discovery_inductive(logA)\n",
    "    elif(alg == \"Heuristic\"):\n",
    "        pn = discovery_heuristic(logA)\n",
    "    else:\n",
    "        raise Exception(\"Discovery algorithm not recognized\")\n",
    "\n",
    "    aligned_traces = alignments.apply_log(logB, pn[0], pn[1], pn[2])\n",
    "    x = 0\n",
    "    for trace in aligned_traces:\n",
    "        x =  x + trace[\"fitness\"]\n",
    "    x = int(x)\n",
    "\n",
    "    aligned_traces_dataframe = alignments.get_diagnostics_dataframe(logB, aligned_traces)\n",
    "    return aligned_traces_dataframe, x/len(logB)"
   ]
  },
  {
   "cell_type": "code",
   "execution_count": 7,
   "metadata": {},
   "outputs": [
    {
     "name": "stderr",
     "output_type": "stream",
     "text": [
      "parsing log, completed traces :: 100%|██████████| 1000/1000 [00:01<00:00, 563.89it/s]\n",
      "parsing log, completed traces :: 100%|██████████| 1000/1000 [00:00<00:00, 1847.06it/s]\n",
      "aligning log, completed variants :: 100%|██████████| 4/4 [00:00<00:00, 144.47it/s]"
     ]
    },
    {
     "name": "stdout",
     "output_type": "stream",
     "text": [
      "    case_id  cost  fitness  is_fit\n",
      "0         0     1      1.0    True\n",
      "1         1     1      1.0    True\n",
      "2        10     1      1.0    True\n",
      "3       100     1      1.0    True\n",
      "4       101     1      1.0    True\n",
      "..      ...   ...      ...     ...\n",
      "995     995     1      1.0    True\n",
      "996     996     1      1.0    True\n",
      "997     997     1      1.0    True\n",
      "998     998     1      1.0    True\n",
      "999     999     1      1.0    True\n",
      "\n",
      "[1000 rows x 4 columns] 1.0\n"
     ]
    },
    {
     "name": "stderr",
     "output_type": "stream",
     "text": [
      "\n"
     ]
    }
   ],
   "source": [
    "def conformance (model, logB):\n",
    "    net, initial_marking, final_marking = pm4py.read_pnml(model+\".pnml\")\n",
    "\n",
    "    aligned_traces = alignments.apply_log(logB, net, initial_marking, final_marking)\n",
    "    x = 0\n",
    "    for trace in aligned_traces:\n",
    "        x =  x + trace[\"fitness\"]\n",
    "    x = int(x)\n",
    "\n",
    "    aligned_traces_dataframe = alignments.get_diagnostics_dataframe(logB, aligned_traces)\n",
    "    return aligned_traces_dataframe, x/len(logB)"
   ]
  }
 ],
 "metadata": {
  "kernelspec": {
   "display_name": "Python 3.10.7 64-bit",
   "language": "python",
   "name": "python3"
  },
  "language_info": {
   "codemirror_mode": {
    "name": "ipython",
    "version": 3
   },
   "file_extension": ".py",
   "mimetype": "text/x-python",
   "name": "python",
   "nbconvert_exporter": "python",
   "pygments_lexer": "ipython3",
   "version": "3.10.7"
  },
  "vscode": {
   "interpreter": {
    "hash": "26de051ba29f2982a8de78e945f0abaf191376122a1563185a90213a26c5da77"
   }
  }
 },
 "nbformat": 4,
 "nbformat_minor": 4
}
