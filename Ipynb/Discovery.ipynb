{
 "cells": [
  {
   "cell_type": "code",
   "execution_count": 1,
   "metadata": {},
   "outputs": [],
   "source": [
    "from pm4py.objects.log.importer.xes import importer as xes_importer\n",
    "import import_ipynb\n",
    "from Statsdata import (get_freq_fitness, get_duration_fitness, get_time_fitness, get_activity_freq_stats, get_activity_duration_stats, \n",
    "get_freq_hour_normalized, get_freq_position_normalized, get_position_fitness, get_trace_length_stats, get_length_fitness)\n",
    "from Mining import discovery_inductive, discovery_heuristic\n",
    "import subprocess\n",
    "import csv\n",
    "import sys\n",
    "import os\n",
    "import uuid\n",
    "import pandas as pd\n",
    "import json\n",
    "from prettytable import PrettyTable as pt\n"
   ]
  },
  {
   "cell_type": "code",
   "execution_count": 2,
   "metadata": {},
   "outputs": [],
   "source": [
    "def writeTable(stats, title, f):\n",
    "        # Creating object\n",
    "        tt = pt([\"\"])\n",
    "        # Adding rows\n",
    "        for stat, values in stats.items():\n",
    "                tb = pt()\n",
    "                rows = []\n",
    "                if(type(values) != dict):\n",
    "                        tb.add_row([values])\n",
    "                else:\n",
    "                        for act, value in values.items():\n",
    "                                tb.add_row([act, value])\n",
    "                tt.add_row([tb.get_string(title=stat, header=False)])\n",
    "        tt.align[\"\"] = \"l\"\n",
    "        \n",
    "        f.write(tt.get_string(title=title, header=False) + \"\\n\")"
   ]
  },
  {
   "cell_type": "markdown",
   "metadata": {},
   "source": [
    "## Log import"
   ]
  },
  {
   "cell_type": "code",
   "execution_count": 3,
   "metadata": {},
   "outputs": [],
   "source": [
    "def execall(path_logA, path_discovered_model):\n",
    "    logA = xes_importer.apply(path_logA+\".xes\")\n",
    "    uuidstr = str(uuid.uuid4())\n",
    "    PATH = 'Models'\n",
    "    if not os.path.exists(PATH):\n",
    "        os.makedirs(PATH)\n",
    "\n",
    "    # Discovery using Inductive\n",
    "    print(\"Discovering using Inductive...\")\n",
    "    pind, filepath_ind = discovery_inductive(logA, uuidstr)\n",
    "    print(\"Done\")\n",
    "\n",
    "    # Discovery using Heuristic\n",
    "    print(\"Discovering using Heuristic...\")\n",
    "    pheu, filepath_heu = discovery_heuristic(logA, uuidstr)\n",
    "    print(\"Done\")\n",
    "\n",
    "    # Discovery of DCR\n",
    "    # java -jar \"dcr-discovery.jar\" \"path xes\" \"path JSON .JSON\"\n",
    "    print(\"Discovering of DCRgraph...\")\n",
    "    filepath_dcr = \"Models\\dcr_\"+uuidstr+\".JSON\"\n",
    "    subprocess.call(['java', '-jar', 'dcr-discovery.jar', path_logA+\".xes\", filepath_dcr])\n",
    "    print(\"Done\")\n",
    "\n",
    "    # Discovery of Palia\n",
    "    # java -jar \"palia-discovery.jar\" \"path xes\"\n",
    "    print(\"Discovering of Palia graph...\")\n",
    "    filepath_palia = \"Models\\palia_\"+uuidstr+\".JSON\"\n",
    "    subprocess.call(['java', '-jar', 'palia-discovery.jar', path_logA+\".xes\", filepath_palia])\n",
    "    print(\"Done\")\n",
    "\n",
    "    # f = open(\"Models\\Discovery_stats_\"+uuidstr+\".txt\", \"w+\")\n",
    "\n",
    "    # Discovery of freq stats\n",
    "    print(\"Discovering frequency stats...\")\n",
    "    fstats, attrvalues = get_activity_freq_stats(logA)\n",
    "    # writeTable(fstats, \"Frequency\", f)\n",
    "    # fsum, fmean, fmedian, fstdev, fmin, fmax\n",
    "    print(\"Done\")\n",
    "    pass\n",
    "\n",
    "    # Discovery of duration stats\n",
    "    print(\"Discovering duration stats...\")\n",
    "    dstats = get_activity_duration_stats(logA)\n",
    "    if(dstats is None):\n",
    "        print(\"No timestamp attribute defined\")\n",
    "    # else: \n",
    "        # writeTable(dstats, \"Duration\", f)\n",
    "    #  dmean, dmedian, dmin, dmax, dstdev\n",
    "    print(\"Done\")\n",
    "\n",
    "    # Discovery of absolute time stats\n",
    "    print(\"Discovering time stats...\")\n",
    "    abstime = get_freq_hour_normalized(logA)\n",
    "    if(abstime is None):\n",
    "        print(\"No timestamp attribute defined\")\n",
    "    # else: \n",
    "        # writeTable(abstime, \"Absolute time\", f)\n",
    "    print(\"Done\")\n",
    "\n",
    "    # Discovery of freq position stats\n",
    "    print(\"Discovering frequency in positions...\")\n",
    "    posfreq = get_freq_position_normalized(logA)\n",
    "    # writeTable(posfreq, \"Position frequency\", f)\n",
    "    print(\"Done\")\n",
    "\n",
    "    # Discovery of traces length stats\n",
    "    print(\"Discovering trace length stats...\")\n",
    "    lenstats = get_trace_length_stats(logA)\n",
    "    # writeTable(lenstats, \"Trace length\", f)\n",
    "    print(\"Done\")\n",
    "\n",
    "\n",
    "    dicovered_models = open(path_discovered_model + \".json\", \"w\")\n",
    "    jsondict = {\"UUID\": uuidstr,\"Ind\": filepath_ind, \"Heu\":filepath_heu, \"DCR\":filepath_dcr, \"Palia\": filepath_palia, \"Freq\":fstats, \"Dur\": dstats, \"AbsT\": abstime, \"Pos\":posfreq, \"Len\":lenstats}\n",
    "    json.dump(jsondict, dicovered_models)\n",
    "    dicovered_models.close()\n",
    "\n",
    "    # f.close()"
   ]
  },
  {
   "cell_type": "code",
   "execution_count": 4,
   "metadata": {},
   "outputs": [
    {
     "name": "stderr",
     "output_type": "stream",
     "text": [
      "C:\\Users\\gdfe\\AppData\\Roaming\\Python\\Python310\\site-packages\\tqdm\\auto.py:22: TqdmWarning: IProgress not found. Please update jupyter and ipywidgets. See https://ipywidgets.readthedocs.io/en/stable/user_install.html\n",
      "  from .autonotebook import tqdm as notebook_tqdm\n",
      "parsing log, completed traces :: 100%|██████████| 1000/1000 [00:00<00:00, 1176.86it/s]\n"
     ]
    },
    {
     "name": "stdout",
     "output_type": "stream",
     "text": [
      "Discovering using Inductive...\n",
      "Done\n",
      "Discovering using Heuristic...\n",
      "Done\n",
      "Discovering of DCRgraph...\n",
      "Discovering of Palia graph...\n",
      "Discovering frequency stats...\n",
      "Done\n",
      "Discovering duration stats...\n",
      "Done\n",
      "Discovering time stats...\n",
      "Done\n",
      "Discovering frequency in positions...\n",
      "Done\n",
      "Discovering trace length stats...\n",
      "Done\n",
      "####################\n",
      "TASKS COMPLETED\n",
      "####################\n"
     ]
    }
   ],
   "source": [
    "if __name__ == \"__main__\":\n",
    "    # Discover.bat logs\\discovery\\discovery-log models\\discovered-model\n",
    "    A = sys.argv[1]\n",
    "    B = sys.argv[2]\n",
    "    execall(A,B)\n",
    "    print(\"####################\")\n",
    "    print(\"TASKS COMPLETED\")\n",
    "    print(\"####################\")"
   ]
  }
 ],
 "metadata": {
  "interpreter": {
   "hash": "1b5acb681577528e2aff85da35659397b1a3d39ac070b6fb3442068ab6131df9"
  },
  "kernelspec": {
   "display_name": "Python 3.10.4 64-bit",
   "language": "python",
   "name": "python3"
  },
  "language_info": {
   "codemirror_mode": {
    "name": "ipython",
    "version": 3
   },
   "file_extension": ".py",
   "mimetype": "text/x-python",
   "name": "python",
   "nbconvert_exporter": "python",
   "pygments_lexer": "ipython3",
   "version": "3.10.4"
  },
  "orig_nbformat": 4
 },
 "nbformat": 4,
 "nbformat_minor": 2
}
