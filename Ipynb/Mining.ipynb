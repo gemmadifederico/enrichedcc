{
 "cells": [
  {
   "cell_type": "code",
   "execution_count": 2,
   "metadata": {},
   "outputs": [],
   "source": [
    "from pm4py.algo.conformance.alignments.petri_net import algorithm as alignments\n",
    "from pm4py.objects.log.importer.xes import importer as xes_importer\n",
    "from pm4py.visualization.petri_net import visualizer as pn_visualizer\n",
    "import pm4py\n",
    "import uuid\n",
    "import os"
   ]
  },
  {
   "cell_type": "markdown",
   "metadata": {},
   "source": [
    "## DISCOVERY INDUCTIVE AND HEURISTIC"
   ]
  },
  {
   "cell_type": "code",
   "execution_count": 5,
   "metadata": {},
   "outputs": [],
   "source": [
    "def discovery_inductive(log):\n",
    "    ind = pm4py.discover_petri_net_inductive(log)\n",
    "    gviz = pn_visualizer.apply(ind[0], ind[1], ind[2])\n",
    "    PATH = 'Models'\n",
    "    if not os.path.exists(PATH):\n",
    "        os.makedirs(PATH)\n",
    "    pn_visualizer.save(gviz, \"Models/ind_\"+str(uuid.uuid4())+\".png\")\n",
    "    return ind\n",
    "def discovery_heuristic(log):\n",
    "    PATH = 'Models'\n",
    "    if not os.path.exists(PATH):\n",
    "        os.makedirs(PATH)\n",
    "    heu = pm4py.discover_petri_net_heuristics(log)\n",
    "    gviz = pn_visualizer.apply(heu[0], heu[1], heu[2])\n",
    "    pn_visualizer.save(gviz, \"Models/heu_\"+str(uuid.uuid4())+\".png\")\n",
    "    return heu\n"
   ]
  },
  {
   "cell_type": "markdown",
   "metadata": {},
   "source": [
    "## CONFORMANCE - ALIGNMENT"
   ]
  },
  {
   "cell_type": "code",
   "execution_count": null,
   "metadata": {},
   "outputs": [],
   "source": [
    "def conformance (logA, logB, alg):\n",
    "    if(alg == \"Inductive\"):\n",
    "        pn = discovery_inductive(logA)\n",
    "    elif(alg == \"Heuristic\"):\n",
    "        pn = discovery_heuristic(logA)\n",
    "    else:\n",
    "        raise Exception(\"Discovery algorithm not recognized\")\n",
    "\n",
    "    aligned_traces = alignments.apply_log(logB, pn[0], pn[1], pn[2])\n",
    "    x = 0\n",
    "    for trace in aligned_traces:\n",
    "        x =  x + trace[\"fitness\"]\n",
    "    x = int(x)\n",
    "\n",
    "    aligned_traces_dataframe = alignments.get_diagnostics_dataframe(logA, aligned_traces)\n",
    "    return aligned_traces_dataframe, x/len(logB)"
   ]
  }
 ],
 "metadata": {
  "interpreter": {
   "hash": "1b5acb681577528e2aff85da35659397b1a3d39ac070b6fb3442068ab6131df9"
  },
  "kernelspec": {
   "display_name": "Python 3.10.4 64-bit",
   "language": "python",
   "name": "python3"
  },
  "language_info": {
   "codemirror_mode": {
    "name": "ipython",
    "version": 3
   },
   "file_extension": ".py",
   "mimetype": "text/x-python",
   "name": "python",
   "nbconvert_exporter": "python",
   "pygments_lexer": "ipython3",
   "version": "3.10.4"
  }
 },
 "nbformat": 4,
 "nbformat_minor": 4
}
