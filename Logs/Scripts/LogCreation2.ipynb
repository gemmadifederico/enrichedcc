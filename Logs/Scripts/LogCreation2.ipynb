{
 "cells": [
  {
   "cell_type": "code",
   "execution_count": 1,
   "id": "256ce047-f483-47e3-a618-f9ab809554d2",
   "metadata": {},
   "outputs": [],
   "source": [
    "import random\n",
    "from datetime import date, timedelta\n",
    "from datetime import datetime as dt\n",
    "import pandas as pd"
   ]
  },
  {
   "cell_type": "code",
   "execution_count": 2,
   "id": "65bbf09e-5d1b-4161-9e85-a4d3107d1c05",
   "metadata": {},
   "outputs": [],
   "source": [
    "def getRandomTime(min_x, max_x, start_time):\n",
    "    start_time = dt.strptime(start_time, \"%Y-%m-%dT%H:%M:%S:%f\")\n",
    "    # min and max duration of the activity %H:%M:%S\n",
    "    min_duration = dt.combine(date.min, dt.strptime(min_x, \"%H:%M:%S:%f\").time())\n",
    "    max_duration = dt.combine(date.min, dt.strptime(max_x, \"%H:%M:%S:%f\").time()) \n",
    "    # get a ramdom millisec value between min and max duration\n",
    "    millisec = random.randint(0, int(((max_duration - min_duration).total_seconds())*1000))\n",
    "    # sum the start date and the calculated random value\n",
    "    min_x = dt.strptime(min_x, '%H:%M:%S:%f')\n",
    "    b = timedelta(hours= min_x.hour, minutes = min_x.minute, seconds = min_x.second, milliseconds = min_x.microsecond)\n",
    "    random_duration = start_time + timedelta(milliseconds = millisec) + b\n",
    "    return (random_duration.strftime('%Y-%m-%dT%H:%M:%S:%f'), millisec+int(b.total_seconds()*1000))    "
   ]
  },
  {
   "cell_type": "code",
   "execution_count": 3,
   "id": "2533f851-38a9-4297-8866-b4766ff4e3d8",
   "metadata": {},
   "outputs": [],
   "source": [
    "def addDelay(time):\n",
    "    #delay tra le attivazioni, tra i 40 e i 200 secondi\n",
    "    delay = random.randint(40, 200)\n",
    "    return (dt.strptime(time, '%Y-%m-%dT%H:%M:%S:%f') + timedelta(seconds=delay)).strftime('%Y-%m-%dT%H:%M:%S:%f')"
   ]
  },
  {
   "cell_type": "code",
   "execution_count": 4,
   "id": "c03d0d82-2049-4755-b425-3ba50b518ca3",
   "metadata": {},
   "outputs": [],
   "source": [
    "def createEventLog(rep, delay, skip):\n",
    "    start_time = dt(2022, 1, 1, 11, 00, 0, 0).strftime('%Y-%m-%dT%H:%M:%S:%f')\n",
    "    day = []\n",
    "    for j in range(rep):\n",
    "        if(delay == True):\n",
    "        # if delay = 1 the lunch is delayed, 2 the dinner is delayed\n",
    "            delay_flag = random.randint(1, 2)\n",
    "        else: \n",
    "            delay_flag = 0\n",
    "        \n",
    "        if(skip == True):\n",
    "        # if skip = 0 both skipped, skip = 1 the lunch is skipped, 2 the dinner is skipped\n",
    "            skip_flag = random.randint(0, 2)\n",
    "        else: \n",
    "            skip_flag = 3\n",
    "\n",
    "        if(delay_flag == 1):\n",
    "            # the lunch starts between 14 to 15, that is 3 to 4 hours from the start time\n",
    "            eating = getRandomTime(\"03:00:00:00\", \"04:00:00:00\", start_time)\n",
    "            #calculate eating duration, between 30 and 60 minutes\n",
    "            eating_complete = getRandomTime(\"00:30:00:00\", \"01:00:00:00\", eating[0])\n",
    "            day.append([j, \"Eat\", eating[0], eating_complete[0]])\n",
    "            # day.append([j, \"Eat\", eating_complete[0], \"complete\"])\n",
    "        # else, normal execution\n",
    "        elif (skip_flag == 0 or skip_flag == 1): \n",
    "            eating_complete = getRandomTime(\"00:30:00:00\", \"01:00:00:00\", start_time)\n",
    "        else:\n",
    "            #the process starts by eating, then it has leave and enter, then eating again, concluding with relax and sleep\n",
    "            #get a random time to start eating, between 11:25 and 12:30\n",
    "            eating = getRandomTime(\"00:25:00:00\", \"01:30:00:00\", start_time)\n",
    "            #calculate eating duration, between 30 and 60 minutes\n",
    "            eating_complete = getRandomTime(\"00:30:00:00\", \"01:00:00:00\", eating[0])\n",
    "            day.append([j, \"Eat\", eating[0], eating_complete[0]])\n",
    "\n",
    "        leave_start = addDelay(eating_complete[0])\n",
    "        leave_complete = addDelay(leave_start)\n",
    "        day.append([j, \"Leave\", leave_start, leave_complete])\n",
    "\n",
    "        # around 7 hours after the start of the process, the person enters again to have dinner\n",
    "        # the interval is between 7 and 8:30 hours, that is 18 to 19:30 \n",
    "        enter_start = getRandomTime(\"07:00:00:00\", \"08:30:00:00\", start_time)\n",
    "        enter_complete = addDelay(enter_start[0])\n",
    "        day.append([j, \"Enter\", enter_start[0], enter_complete])\n",
    "\n",
    "        if(delay_flag == 2):  \n",
    "            # the dinner is delayed, so it starts between 21:00 and 22:30\n",
    "            # that is, after 10 and 11:30 hours wrt start_time\n",
    "            eating2_start = getRandomTime(\"10:00:00:00\", \"11:30:00:00\", start_time)\n",
    "            # calculate eating duration, between 30 and 60 minutes\n",
    "            eating2_complete = getRandomTime(\"00:30:00:00\", \"01:00:00:00\", eating2_start[0])\n",
    "            day.append([j, \"Eat\", eating2_start[0], eating2_complete[0]])\n",
    "        elif (skip_flag == 0 or skip_flag == 2):\n",
    "            eating2_complete = getRandomTime(\"00:30:00:00\", \"01:00:00:00\", enter_complete)\n",
    "        else:\n",
    "            eating2_start = addDelay(enter_complete)\n",
    "            # calculate eating duration, between 30 and 60 minutes\n",
    "            eating2_complete = getRandomTime(\"00:30:00:00\", \"01:00:00:00\", eating2_start)\n",
    "            day.append([j, \"Eat\", eating2_start, eating2_complete[0]])\n",
    "\n",
    "        relax_start = addDelay(eating2_complete[0])\n",
    "        relax_complete = getRandomTime(\"01:00:00:00\", \"02:00:00:00\", relax_start)\n",
    "        day.append([j, \"Relax\", relax_start, relax_complete[0]])\n",
    "\n",
    "        start_time_temp = dt.strptime(start_time, \"%Y-%m-%dT%H:%M:%S:%f\")\n",
    "        start_time = (start_time_temp + timedelta(days=1)).strftime('%Y-%m-%dT%H:%M:%S:%f')   \n",
    "      \n",
    "    return day"
   ]
  },
  {
   "cell_type": "code",
   "execution_count": 5,
   "id": "082d3996-3faa-4d16-adeb-feec017cf661",
   "metadata": {},
   "outputs": [
    {
     "name": "stdout",
     "output_type": "stream",
     "text": [
      "yes\n"
     ]
    },
    {
     "name": "stderr",
     "output_type": "stream",
     "text": [
      "c:\\Users\\gdfe\\AppData\\Local\\Programs\\Python\\Python310\\lib\\site-packages\\tqdm\\auto.py:22: TqdmWarning: IProgress not found. Please update jupyter and ipywidgets. See https://ipywidgets.readthedocs.io/en/stable/user_install.html\n",
      "  from .autonotebook import tqdm as notebook_tqdm\n",
      "exporting log, completed traces :: 100%|██████████| 1000/1000 [00:00<00:00, 1171.31it/s]\n",
      "exporting log, completed traces :: 100%|██████████| 1000/1000 [00:00<00:00, 1554.35it/s]\n",
      "exporting log, completed traces :: 100%|██████████| 1000/1000 [00:00<00:00, 2161.42it/s]\n"
     ]
    }
   ],
   "source": [
    "from pm4py.objects.log.exporter.xes import exporter as xes_exporter\n",
    "from pm4py.objects.conversion.log import converter as log_converter\n",
    "import pm4py\n",
    "import os\n",
    "\n",
    "PATH = '../Scenario2'\n",
    "if not os.path.exists(PATH):\n",
    "    os.makedirs(PATH)\n",
    "\n",
    "cols = ['case_id','activity', 'start_timestamp', 'complete_time']\n",
    "\n",
    "#createEventLog(n of traces, delay, skip)\n",
    "log = createEventLog(1000, False, False)\n",
    "df = pd.DataFrame(log, columns = cols)\n",
    "event_log = pm4py.format_dataframe(df, case_id='case_id', activity_key='activity', timestamp_key='complete_time', start_timestamp_key='start_timestamp', timest_format=\"%Y-%m-%dT%H:%M:%S:%f\")\n",
    "pm4py.write_xes(event_log, '../Scenario2/logNormal.xes')\n",
    "\n",
    "log2 = createEventLog(1000, True, False)\n",
    "df2 = pd.DataFrame(log2, columns = cols)\n",
    "event_log2 = pm4py.format_dataframe(df2, case_id='case_id', activity_key='activity', timestamp_key='complete_time', start_timestamp_key='start_timestamp', timest_format=\"%Y-%m-%dT%H:%M:%S:%f\")\n",
    "pm4py.write_xes(event_log2, '../Scenario2/logDelay.xes')\n",
    "\n",
    "log3 = createEventLog(1000, False, True)\n",
    "df3 = pd.DataFrame(log3, columns = cols)\n",
    "event_log3 = pm4py.format_dataframe(df3, case_id='case_id', activity_key='activity', timestamp_key='complete_time', start_timestamp_key='start_timestamp', timest_format=\"%Y-%m-%dT%H:%M:%S:%f\")\n",
    "pm4py.write_xes(event_log3, '../Scenario2/logAbsence.xes')"
   ]
  }
 ],
 "metadata": {
  "interpreter": {
   "hash": "1b5acb681577528e2aff85da35659397b1a3d39ac070b6fb3442068ab6131df9"
  },
  "kernelspec": {
   "display_name": "Python 3.10.4 64-bit",
   "language": "python",
   "name": "python3"
  },
  "language_info": {
   "codemirror_mode": {
    "name": "ipython",
    "version": 3
   },
   "file_extension": ".py",
   "mimetype": "text/x-python",
   "name": "python",
   "nbconvert_exporter": "python",
   "pygments_lexer": "ipython3",
   "version": "3.10.4"
  }
 },
 "nbformat": 4,
 "nbformat_minor": 5
}
