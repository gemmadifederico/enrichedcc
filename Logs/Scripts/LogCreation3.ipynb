{
 "cells": [
  {
   "cell_type": "code",
   "execution_count": 1,
   "id": "256ce047-f483-47e3-a618-f9ab809554d2",
   "metadata": {},
   "outputs": [],
   "source": [
    "import random\n",
    "from datetime import date, timedelta\n",
    "from datetime import datetime as dt\n",
    "import pandas as pd\n",
    "import itertools"
   ]
  },
  {
   "cell_type": "code",
   "execution_count": 2,
   "id": "65bbf09e-5d1b-4161-9e85-a4d3107d1c05",
   "metadata": {},
   "outputs": [],
   "source": [
    "def getRandomTime(min_x, max_x, start_time):\n",
    "    start_time = dt.strptime(start_time, \"%Y-%m-%dT%H:%M:%S:%f\")\n",
    "    # min and max duration of the activity %H:%M:%S\n",
    "    min_duration = dt.combine(date.min, dt.strptime(min_x, \"%H:%M:%S:%f\").time())\n",
    "    max_duration = dt.combine(date.min, dt.strptime(max_x, \"%H:%M:%S:%f\").time()) \n",
    "    # get a ramdom millisec value between min and max duration\n",
    "    millisec = random.randint(0, int(((max_duration - min_duration).total_seconds())*1000))\n",
    "    # sum the start date and the calculated random value\n",
    "    min_x = dt.strptime(min_x, '%H:%M:%S:%f')\n",
    "    b = timedelta(hours= min_x.hour, minutes = min_x.minute, seconds = min_x.second, milliseconds = min_x.microsecond)\n",
    "    random_duration = start_time + timedelta(milliseconds = millisec) + b\n",
    "    return (random_duration.strftime('%Y-%m-%dT%H:%M:%S:%f'), millisec+int(b.total_seconds()*1000))    "
   ]
  },
  {
   "cell_type": "code",
   "execution_count": 3,
   "id": "2533f851-38a9-4297-8866-b4766ff4e3d8",
   "metadata": {},
   "outputs": [],
   "source": [
    "def addDelay(time):\n",
    "    #delay tra le attivazioni, tra i 200 e i 400 secondi\n",
    "    delay = random.randint(200, 400)\n",
    "    return (dt.strptime(time, '%Y-%m-%dT%H:%M:%S:%f') + timedelta(seconds=delay)).strftime('%Y-%m-%dT%H:%M:%S:%f')"
   ]
  },
  {
   "cell_type": "code",
   "execution_count": 4,
   "id": "186cd8bf",
   "metadata": {},
   "outputs": [],
   "source": [
    "def createEventLog(rep, shuffle):\n",
    "    start_time = dt(2022, 1, 1, 7, 0, 0, 0).strftime('%Y-%m-%dT%H:%M:%S:%f')\n",
    "    day = []\n",
    "\n",
    "    for j in range(rep):\n",
    "        # get a random time to wake up, between 07:00 and 08:00\n",
    "        # start time is 07:00, so the function takes a range of 1 h\n",
    "        wake_up = getRandomTime(\"00:00:00:00\", \"01:00:00:00\", start_time)\n",
    "        wake_up_complete = addDelay(wake_up[0])\n",
    "        day.append([j, \"Wake_up\", wake_up[0], wake_up_complete])\n",
    "\n",
    "        if shuffle == True:\n",
    "            # we can execute or not execute the get_dressed\n",
    "            gt = random.choice([True, False])\n",
    "            # gt = True\n",
    "            if gt == True:\n",
    "                # get dressed has a duration between 15 and 30 minutes\n",
    "                get_dressed = addDelay(wake_up_complete)\n",
    "                get_dressed_complete = getRandomTime(\"00:15:00:00\", \"00:30:00:00\", get_dressed)\n",
    "                day.append([j, \"Get_dressed\", get_dressed, get_dressed_complete[0]])     \n",
    "            \n",
    "            temp = []\n",
    "            temp_breakfast = []\n",
    "            temp_bed = []\n",
    "            temp_breakfast.append([\"Have_breakfast\", \"00:20:00:00\", \"00:45:00:00\"])\n",
    "            temp_bed.append([\"Make_bed\", \"00:05:00:00\", \"00:10:00:00\"])\n",
    "            temp.append(temp_breakfast)\n",
    "            temp.append(temp_bed)\n",
    "            random.shuffle(temp)\n",
    "            row = list(itertools.chain.from_iterable(temp))\n",
    "            l = len(day)\n",
    "            start_x = addDelay(day[l-1][3])\n",
    "            # row[0]\n",
    "            a = getRandomTime(row[0][1],row[0][2], start_x)\n",
    "            day.append([j, row[0][0], start_x, a[0]])\n",
    "\n",
    "            row1_delay = addDelay(a[0])\n",
    "            # row[1]\n",
    "            b = getRandomTime(row[1][1],row[1][2], row1_delay)\n",
    "            day.append([j, row[1][0], row1_delay, b[0]])\n",
    "\n",
    "            # go bathroom has a duration between 15 and 25 minutes\n",
    "            go_bathroom = addDelay(b[0])\n",
    "            go_bathroom_complete = getRandomTime(\"00:15:00:00\", \"00:25:00:00\", go_bathroom)\n",
    "            day.append([j, \"Go_bathroom\", go_bathroom, go_bathroom_complete[0]])\n",
    "        \n",
    "            if gt == False:\n",
    "                # get dressed has a duration between 15 and 30 minutes\n",
    "                get_dressed = addDelay(go_bathroom_complete[0])\n",
    "                get_dressed_complete = getRandomTime(\"00:15:00:00\", \"00:30:00:00\", get_dressed)\n",
    "                day.append([j, \"Get_dressed\", get_dressed, get_dressed_complete[0]]) \n",
    "        else:   \n",
    "            # have breakfast has a duration between 20 to 45 minutes\n",
    "            have_breakfast = addDelay(wake_up_complete)\n",
    "            have_breakfast_complete = getRandomTime(\"00:20:00:00\", \"00:45:00:00\", have_breakfast)\n",
    "            day.append([j, \"Have_breakfast\", have_breakfast, have_breakfast_complete[0]])\n",
    "\n",
    "            # go bathroom has a duration between 15 and 25 minutes\n",
    "            go_bathroom = addDelay(have_breakfast_complete[0])\n",
    "            go_bathroom_complete = getRandomTime(\"00:15:00:00\", \"00:25:00:00\", go_bathroom)\n",
    "            day.append([j, \"Go_bathroom\", go_bathroom, go_bathroom_complete[0]])\n",
    "\n",
    "            # make bed has a duration between 5 and 10 minutes\n",
    "            make_bed = addDelay(go_bathroom_complete[0])\n",
    "            make_bed_complete = getRandomTime(\"00:05:00:00\", \"00:10:00:00\", make_bed)\n",
    "            day.append([j, \"Make_bed\", make_bed, make_bed_complete[0]])\n",
    "\n",
    "            # get dressed has a duration between 15 and 30 minutes\n",
    "            get_dressed = addDelay(make_bed_complete[0])\n",
    "            get_dressed_complete = getRandomTime(\"00:15:00:00\", \"00:30:00:00\", get_dressed)\n",
    "            day.append([j, \"Get_dressed\", get_dressed, get_dressed_complete[0]])\n",
    "\n",
    "        # go out is just a few minutes activity, that is the delay, between 200 and 400 seconds\n",
    "        l = len(day)\n",
    "        go_out = addDelay(day[l-1][3])\n",
    "        go_out_complete = addDelay(go_out)\n",
    "        day.append([j, \"Go_out\", go_out, go_out_complete])\n",
    "\n",
    "        start_time_temp = dt.strptime(start_time, \"%Y-%m-%dT%H:%M:%S:%f\")\n",
    "        start_time = (start_time_temp + timedelta(days=1)).strftime('%Y-%m-%dT%H:%M:%S:%f')\n",
    "    return day"
   ]
  },
  {
   "cell_type": "code",
   "execution_count": 5,
   "id": "082d3996-3faa-4d16-adeb-feec017cf661",
   "metadata": {},
   "outputs": [
    {
     "name": "stdout",
     "output_type": "stream",
     "text": [
      "yes\n"
     ]
    },
    {
     "name": "stderr",
     "output_type": "stream",
     "text": [
      "c:\\Users\\gdfe\\AppData\\Local\\Programs\\Python\\Python310\\lib\\site-packages\\tqdm\\auto.py:22: TqdmWarning: IProgress not found. Please update jupyter and ipywidgets. See https://ipywidgets.readthedocs.io/en/stable/user_install.html\n",
      "  from .autonotebook import tqdm as notebook_tqdm\n",
      "exporting log, completed traces :: 100%|██████████| 1000/1000 [00:01<00:00, 861.88it/s]\n",
      "exporting log, completed traces :: 100%|██████████| 1000/1000 [00:00<00:00, 1108.32it/s]\n"
     ]
    }
   ],
   "source": [
    "from pm4py.objects.log.exporter.xes import exporter as xes_exporter\n",
    "from pm4py.objects.conversion.log import converter as log_converter\n",
    "import pm4py\n",
    "import os\n",
    "\n",
    "PATH = '../Scenario3' \n",
    "if not os.path.exists(PATH):\n",
    "    os.makedirs(PATH)\n",
    "\n",
    "cols = ['case_id','activity', 'start_timestamp', 'complete_time']\n",
    "\n",
    "#createEventLog(n of traces, shuffle)\n",
    "log = createEventLog(1000, False)\n",
    "df = pd.DataFrame(log, columns = cols)\n",
    "event_log = pm4py.format_dataframe(df, case_id='case_id', activity_key='activity', timestamp_key='complete_time', start_timestamp_key='start_timestamp', timest_format=\"%Y-%m-%dT%H:%M:%S:%f\")\n",
    "pm4py.write_xes(event_log, '../Scenario3/logNormal.xes')\n",
    "\n",
    "log2 = createEventLog(1000, True)\n",
    "df2 = pd.DataFrame(log2, columns = cols)\n",
    "event_log2 = pm4py.format_dataframe(df2, case_id='case_id', activity_key='activity',  timestamp_key='complete_time', start_timestamp_key='start_timestamp', timest_format=\"%Y-%m-%dT%H:%M:%S:%f\")\n",
    "pm4py.write_xes(event_log2, '../Scenario3/logShuffle.xes')\n"
   ]
  }
 ],
 "metadata": {
  "interpreter": {
   "hash": "1b5acb681577528e2aff85da35659397b1a3d39ac070b6fb3442068ab6131df9"
  },
  "kernelspec": {
   "display_name": "Python 3.10.4 64-bit",
   "language": "python",
   "name": "python3"
  },
  "language_info": {
   "codemirror_mode": {
    "name": "ipython",
    "version": 3
   },
   "file_extension": ".py",
   "mimetype": "text/x-python",
   "name": "python",
   "nbconvert_exporter": "python",
   "pygments_lexer": "ipython3",
   "version": "3.10.4"
  }
 },
 "nbformat": 4,
 "nbformat_minor": 5
}
