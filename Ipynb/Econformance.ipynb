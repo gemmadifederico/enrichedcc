{
 "cells": [
  {
   "cell_type": "code",
   "execution_count": 3,
   "metadata": {},
   "outputs": [],
   "source": [
    "from pm4py.objects.log.importer.xes import importer as xes_importer\n",
    "from Statsdata import get_freq_fitness, get_duration_fitness, get_time_fitness\n",
    "from Mining import discovery_inductive, discovery_heuristic, conformance\n",
    "import subprocess\n",
    "import csv\n",
    "import sys\n",
    "import os\n",
    "import uuid\n",
    "import pandas as pd"
   ]
  },
  {
   "cell_type": "markdown",
   "metadata": {},
   "source": [
    "## Log import"
   ]
  },
  {
   "cell_type": "code",
   "execution_count": 4,
   "metadata": {},
   "outputs": [],
   "source": [
    "# Just for thesting\n",
    "# logB = xes_importer.apply(\"../logNormal.xes\")\n",
    "# logA = xes_importer.apply(\"../logFreq.xes\")"
   ]
  },
  {
   "cell_type": "code",
   "execution_count": 1,
   "metadata": {},
   "outputs": [],
   "source": [
    "def execall(path_logA, path_logB):\n",
    "    # XES import\n",
    "    logA = xes_importer.apply(path_logA)\n",
    "    logB = xes_importer.apply(path_logB)\n",
    "\n",
    "    # Conformance checking (alignment) from Inductive\n",
    "    print(\"Conformance checking from Inductive...\")\n",
    "    ccind_traces, ccind = conformance(logA, logB, \"Inductive\")\n",
    "    print(\"Done\")\n",
    "\n",
    "    # Conformance checking (alignment) from Heuristic\n",
    "    print(\"Conformance checking from Heuristic...\")\n",
    "    ccheu_traces, ccheu = conformance(logA, logB, \"Heuristic\")\n",
    "    print(\"Done\")\n",
    "\n",
    "    # Discovery of DCR\n",
    "    # java -jar \"dcr-discovery.jar\" \"path xes\" \"path JSON .JSON\"\n",
    "    print(\"Discovery of DCRgraph...\")\n",
    "    PATH = 'Models'\n",
    "    if not os.path.exists(PATH):\n",
    "        os.makedirs(PATH)\n",
    "    filename = \"Models\\dcr_\"+str(uuid.uuid4())+\".JSON\"\n",
    "    subprocess.call(['java', '-jar', 'dcr-discovery.jar', path_logA, filename])\n",
    "    print(\"Done\") \n",
    "\n",
    "    # Conformance checking of DCR\n",
    "    # java -jar \"dcr-conformance.jar\" \"path model .JSON\" \"path logB\" open world flag\n",
    "    print(\"Conformance of DCR...\")\n",
    "    subprocess.call(['java', '-jar', 'dcr-conformance.jar', filename, path_logB, \"FALSE\"])\n",
    "\n",
    "    # The total fitness value is saved in the file dcrcc.txt\n",
    "    f = open(\"dcrcc.txt\", \"r\")\n",
    "    for line in f:\n",
    "        ccdcr = float(line)\n",
    "    f.close()\n",
    "    print(\"Done\")\n",
    "\n",
    "    # Conformance of frequency\n",
    "    print(\"Conformance of frequency...\")\n",
    "    ccfreq_ev, ccfreq_traces, ccfreq = get_freq_fitness(logA, logB)\n",
    "    print(\"Done\")\n",
    "\n",
    "    # Conformance of duration\n",
    "    print(\"Conformance of duration...\")\n",
    "    ccdur_ev, ccdur_traces, ccdur = get_duration_fitness(logA, logB)\n",
    "    print(\"Done\")\n",
    "\n",
    "    # Get fitness of absolute time\n",
    "    print(\"Absolute time comparison...\")\n",
    "    cctime_act, cctime = get_time_fitness(logA, logB)\n",
    "    print(\"Done\")\n",
    "\n",
    "    # ccfreq \n",
    "    # ccdur \n",
    "    # ccheu\n",
    "    # ccind\n",
    "    # ccdcr\n",
    "    # ccdecl\n",
    "\n",
    "    header = [\"logA\", \"logB\", \"ccheu\", \"ccind\", \"ccdcr\", \"ccfreq\", \"ccdur\", \"cctime\"]\n",
    "    values = [path_logA, path_logB, ccheu, ccind, ccdcr, ccfreq, ccdur, cctime]\n",
    "    print(\"Writing the results...\")\n",
    "    # open the file in the write mode\n",
    "\n",
    "    # Create File\n",
    "    if not os.path.exists('Results.csv'):\n",
    "        print(\"Creating file...\")\n",
    "        with open('Results.csv', 'w', newline=\"\") as f:\n",
    "            writer = csv.writer(f)\n",
    "            writer.writerow(header)\n",
    "            writer.writerow(values)\n",
    "            print(\"Done\")\n",
    "    else:\n",
    "        with open('Results.csv', 'a', newline=\"\") as f:\n",
    "            writer = csv.writer(f)\n",
    "            writer.writerow(values)\n",
    "            print(\"Done\")\n",
    "\n",
    "    # ccdcr_traces = pd.read_csv('accepted_traces.csv', names=[\"case_id\", \"fitness\"])\n",
    "    # Create File\n",
    "    # print(\"Creating file...\")\n",
    "    # name = os.path.basename(path_logB)\n",
    "    # with open(\"Fitness_\"+os.path.splitext(name)[0]+str(uuid.uuid4())[:4]+\".csv\", 'w', newline=\"\") as f:\n",
    "        # writer = csv.writer(f)\n",
    "        # f.write(\"case_id, ccind, ccheu, ccdcr, ccfreq, ccdur, cctime\\n\")\n",
    "        # for trace in logA:\n",
    "            # key = trace.attributes.get(\"concept:name\")\n",
    "            # \"id, ccind, ccheu, ccdcr, ccfreq, ccdur, cctime\"\n",
    "            # f.write(\"%s, %s, %s, %s, %s, %s, %s\\n\" % (key, ccind_traces.loc[ccind_traces[\"case_id\"] == str(key), \"fitness\"].iloc[0], \n",
    "            # ccheu_traces.loc[ccheu_traces[\"case_id\"] == str(key), \"fitness\"].iloc[0], \n",
    "            # ccdcr_traces.loc[ccdcr_traces[\"case_id\"] == 3, \"fitness\"].iloc[0],\n",
    "            # ccfreq_traces[key], ccdur_traces[key], cctime_traces[key]))\n",
    "        # print(\"Done\")"
   ]
  },
  {
   "cell_type": "code",
   "execution_count": 6,
   "metadata": {},
   "outputs": [
    {
     "ename": "FileNotFoundError",
     "evalue": "[Errno 2] No such file or directory: '--ip=127.0.0.1'",
     "output_type": "error",
     "traceback": [
      "\u001b[1;31m---------------------------------------------------------------------------\u001b[0m",
      "\u001b[1;31mFileNotFoundError\u001b[0m                         Traceback (most recent call last)",
      "\u001b[1;32mc:\\Users\\gdfe\\OneDrive - Danmarks Tekniske Universitet\\Dokumenter\\BPM_2022\\DEC2H\\FINAL\\Ipynb\\Econformance.ipynb Cell 5'\u001b[0m in \u001b[0;36m<cell line: 2>\u001b[1;34m()\u001b[0m\n\u001b[0;32m      <a href='vscode-notebook-cell:/c%3A/Users/gdfe/OneDrive%20-%20Danmarks%20Tekniske%20Universitet/Dokumenter/BPM_2022/DEC2H/FINAL/Ipynb/Econformance.ipynb#ch0000004?line=1'>2</a>\u001b[0m \u001b[39mfor\u001b[39;00m i \u001b[39min\u001b[39;00m \u001b[39mrange\u001b[39m(\u001b[39m2\u001b[39m, \u001b[39mlen\u001b[39m(sys\u001b[39m.\u001b[39margv)):\n\u001b[0;32m      <a href='vscode-notebook-cell:/c%3A/Users/gdfe/OneDrive%20-%20Danmarks%20Tekniske%20Universitet/Dokumenter/BPM_2022/DEC2H/FINAL/Ipynb/Econformance.ipynb#ch0000004?line=2'>3</a>\u001b[0m     B \u001b[39m=\u001b[39m sys\u001b[39m.\u001b[39margv[i] \n\u001b[1;32m----> <a href='vscode-notebook-cell:/c%3A/Users/gdfe/OneDrive%20-%20Danmarks%20Tekniske%20Universitet/Dokumenter/BPM_2022/DEC2H/FINAL/Ipynb/Econformance.ipynb#ch0000004?line=3'>4</a>\u001b[0m     execall(A,B)\n\u001b[0;32m      <a href='vscode-notebook-cell:/c%3A/Users/gdfe/OneDrive%20-%20Danmarks%20Tekniske%20Universitet/Dokumenter/BPM_2022/DEC2H/FINAL/Ipynb/Econformance.ipynb#ch0000004?line=4'>5</a>\u001b[0m     \u001b[39mprint\u001b[39m(\u001b[39m\"\u001b[39m\u001b[39m####################\u001b[39m\u001b[39m\"\u001b[39m)\n\u001b[0;32m      <a href='vscode-notebook-cell:/c%3A/Users/gdfe/OneDrive%20-%20Danmarks%20Tekniske%20Universitet/Dokumenter/BPM_2022/DEC2H/FINAL/Ipynb/Econformance.ipynb#ch0000004?line=5'>6</a>\u001b[0m     \u001b[39mprint\u001b[39m(\u001b[39m\"\u001b[39m\u001b[39mTASKS COMPLETED\u001b[39m\u001b[39m\"\u001b[39m)\n",
      "\u001b[1;32mc:\\Users\\gdfe\\OneDrive - Danmarks Tekniske Universitet\\Dokumenter\\BPM_2022\\DEC2H\\FINAL\\Ipynb\\Econformance.ipynb Cell 4'\u001b[0m in \u001b[0;36mexecall\u001b[1;34m(path_logA, path_logB)\u001b[0m\n\u001b[0;32m      <a href='vscode-notebook-cell:/c%3A/Users/gdfe/OneDrive%20-%20Danmarks%20Tekniske%20Universitet/Dokumenter/BPM_2022/DEC2H/FINAL/Ipynb/Econformance.ipynb#ch0000003?line=0'>1</a>\u001b[0m \u001b[39mdef\u001b[39;00m \u001b[39mexecall\u001b[39m(path_logA, path_logB):\n\u001b[0;32m      <a href='vscode-notebook-cell:/c%3A/Users/gdfe/OneDrive%20-%20Danmarks%20Tekniske%20Universitet/Dokumenter/BPM_2022/DEC2H/FINAL/Ipynb/Econformance.ipynb#ch0000003?line=1'>2</a>\u001b[0m     \u001b[39m# XES import\u001b[39;00m\n\u001b[1;32m----> <a href='vscode-notebook-cell:/c%3A/Users/gdfe/OneDrive%20-%20Danmarks%20Tekniske%20Universitet/Dokumenter/BPM_2022/DEC2H/FINAL/Ipynb/Econformance.ipynb#ch0000003?line=2'>3</a>\u001b[0m     logA \u001b[39m=\u001b[39m xes_importer\u001b[39m.\u001b[39;49mapply(path_logA)\n\u001b[0;32m      <a href='vscode-notebook-cell:/c%3A/Users/gdfe/OneDrive%20-%20Danmarks%20Tekniske%20Universitet/Dokumenter/BPM_2022/DEC2H/FINAL/Ipynb/Econformance.ipynb#ch0000003?line=3'>4</a>\u001b[0m     logB \u001b[39m=\u001b[39m xes_importer\u001b[39m.\u001b[39mapply(path_logB)\n\u001b[0;32m      <a href='vscode-notebook-cell:/c%3A/Users/gdfe/OneDrive%20-%20Danmarks%20Tekniske%20Universitet/Dokumenter/BPM_2022/DEC2H/FINAL/Ipynb/Econformance.ipynb#ch0000003?line=5'>6</a>\u001b[0m     \u001b[39m# Conformance checking (alignment) from Inductive\u001b[39;00m\n",
      "File \u001b[1;32mc:\\Users\\gdfe\\AppData\\Local\\Programs\\Python\\Python310\\lib\\site-packages\\pm4py\\objects\\log\\importer\\xes\\importer.py:66\u001b[0m, in \u001b[0;36mapply\u001b[1;34m(path, parameters, variant)\u001b[0m\n\u001b[0;32m     <a href='file:///c%3A/Users/gdfe/AppData/Local/Programs/Python/Python310/lib/site-packages/pm4py/objects/log/importer/xes/importer.py?line=62'>63</a>\u001b[0m \u001b[39melif\u001b[39;00m variant \u001b[39m==\u001b[39m \u001b[39m'\u001b[39m\u001b[39miterparse\u001b[39m\u001b[39m'\u001b[39m:\n\u001b[0;32m     <a href='file:///c%3A/Users/gdfe/AppData/Local/Programs/Python/Python310/lib/site-packages/pm4py/objects/log/importer/xes/importer.py?line=63'>64</a>\u001b[0m     variant \u001b[39m=\u001b[39m Variants\u001b[39m.\u001b[39mITERPARSE\n\u001b[1;32m---> <a href='file:///c%3A/Users/gdfe/AppData/Local/Programs/Python/Python310/lib/site-packages/pm4py/objects/log/importer/xes/importer.py?line=65'>66</a>\u001b[0m \u001b[39mreturn\u001b[39;00m variant\u001b[39m.\u001b[39;49mvalue\u001b[39m.\u001b[39;49mapply(path, parameters\u001b[39m=\u001b[39;49mparameters)\n",
      "File \u001b[1;32mc:\\Users\\gdfe\\AppData\\Local\\Programs\\Python\\Python310\\lib\\site-packages\\pm4py\\objects\\log\\importer\\xes\\variants\\iterparse.py:300\u001b[0m, in \u001b[0;36mapply\u001b[1;34m(filename, parameters)\u001b[0m\n\u001b[0;32m    <a href='file:///c%3A/Users/gdfe/AppData/Local/Programs/Python/Python310/lib/site-packages/pm4py/objects/log/importer/xes/variants/iterparse.py?line=277'>278</a>\u001b[0m \u001b[39mdef\u001b[39;00m \u001b[39mapply\u001b[39m(filename, parameters\u001b[39m=\u001b[39m\u001b[39mNone\u001b[39;00m):\n\u001b[0;32m    <a href='file:///c%3A/Users/gdfe/AppData/Local/Programs/Python/Python310/lib/site-packages/pm4py/objects/log/importer/xes/variants/iterparse.py?line=278'>279</a>\u001b[0m     \u001b[39m\"\"\"\u001b[39;00m\n\u001b[0;32m    <a href='file:///c%3A/Users/gdfe/AppData/Local/Programs/Python/Python310/lib/site-packages/pm4py/objects/log/importer/xes/variants/iterparse.py?line=279'>280</a>\u001b[0m \u001b[39m    Imports an XES file into a log object\u001b[39;00m\n\u001b[0;32m    <a href='file:///c%3A/Users/gdfe/AppData/Local/Programs/Python/Python310/lib/site-packages/pm4py/objects/log/importer/xes/variants/iterparse.py?line=280'>281</a>\u001b[0m \n\u001b[1;32m   (...)\u001b[0m\n\u001b[0;32m    <a href='file:///c%3A/Users/gdfe/AppData/Local/Programs/Python/Python310/lib/site-packages/pm4py/objects/log/importer/xes/variants/iterparse.py?line=297'>298</a>\u001b[0m \u001b[39m        A log\u001b[39;00m\n\u001b[0;32m    <a href='file:///c%3A/Users/gdfe/AppData/Local/Programs/Python/Python310/lib/site-packages/pm4py/objects/log/importer/xes/variants/iterparse.py?line=298'>299</a>\u001b[0m \u001b[39m    \"\"\"\u001b[39;00m\n\u001b[1;32m--> <a href='file:///c%3A/Users/gdfe/AppData/Local/Programs/Python/Python310/lib/site-packages/pm4py/objects/log/importer/xes/variants/iterparse.py?line=299'>300</a>\u001b[0m     \u001b[39mreturn\u001b[39;00m import_log(filename, parameters)\n",
      "File \u001b[1;32mc:\\Users\\gdfe\\AppData\\Local\\Programs\\Python\\Python310\\lib\\site-packages\\pm4py\\objects\\log\\importer\\xes\\variants\\iterparse.py:338\u001b[0m, in \u001b[0;36mimport_log\u001b[1;34m(filename, parameters)\u001b[0m\n\u001b[0;32m    <a href='file:///c%3A/Users/gdfe/AppData/Local/Programs/Python/Python310/lib/site-packages/pm4py/objects/log/importer/xes/variants/iterparse.py?line=335'>336</a>\u001b[0m     f \u001b[39m=\u001b[39m gzip\u001b[39m.\u001b[39mopen(filename, \u001b[39m\"\u001b[39m\u001b[39mrb\u001b[39m\u001b[39m\"\u001b[39m)\n\u001b[0;32m    <a href='file:///c%3A/Users/gdfe/AppData/Local/Programs/Python/Python310/lib/site-packages/pm4py/objects/log/importer/xes/variants/iterparse.py?line=336'>337</a>\u001b[0m \u001b[39melse\u001b[39;00m:\n\u001b[1;32m--> <a href='file:///c%3A/Users/gdfe/AppData/Local/Programs/Python/Python310/lib/site-packages/pm4py/objects/log/importer/xes/variants/iterparse.py?line=337'>338</a>\u001b[0m     f \u001b[39m=\u001b[39m \u001b[39mopen\u001b[39;49m(filename, \u001b[39m\"\u001b[39;49m\u001b[39mrb\u001b[39;49m\u001b[39m\"\u001b[39;49m)\n\u001b[0;32m    <a href='file:///c%3A/Users/gdfe/AppData/Local/Programs/Python/Python310/lib/site-packages/pm4py/objects/log/importer/xes/variants/iterparse.py?line=338'>339</a>\u001b[0m context \u001b[39m=\u001b[39m etree\u001b[39m.\u001b[39miterparse(f, events\u001b[39m=\u001b[39m[_EVENT_START, _EVENT_END], encoding\u001b[39m=\u001b[39mencoding)\n\u001b[0;32m    <a href='file:///c%3A/Users/gdfe/AppData/Local/Programs/Python/Python310/lib/site-packages/pm4py/objects/log/importer/xes/variants/iterparse.py?line=339'>340</a>\u001b[0m num_traces \u001b[39m=\u001b[39m count_traces(context)\n",
      "\u001b[1;31mFileNotFoundError\u001b[0m: [Errno 2] No such file or directory: '--ip=127.0.0.1'"
     ]
    }
   ],
   "source": [
    "A = sys.argv[1]\n",
    "for i in range(2, len(sys.argv)):\n",
    "    B = sys.argv[i] \n",
    "    execall(A,B)\n",
    "    print(\"####################\")\n",
    "    print(\"TASKS COMPLETED\")\n",
    "    print(\"####################\")"
   ]
  }
 ],
 "metadata": {
  "interpreter": {
   "hash": "1b5acb681577528e2aff85da35659397b1a3d39ac070b6fb3442068ab6131df9"
  },
  "kernelspec": {
   "display_name": "Python 3.10.4 64-bit",
   "language": "python",
   "name": "python3"
  },
  "language_info": {
   "codemirror_mode": {
    "name": "ipython",
    "version": 3
   },
   "file_extension": ".py",
   "mimetype": "text/x-python",
   "name": "python",
   "nbconvert_exporter": "python",
   "pygments_lexer": "ipython3",
   "version": "3.10.4"
  },
  "orig_nbformat": 4
 },
 "nbformat": 4,
 "nbformat_minor": 2
}
