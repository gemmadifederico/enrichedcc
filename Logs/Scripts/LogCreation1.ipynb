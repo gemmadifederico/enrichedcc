{
 "cells": [
  {
   "cell_type": "code",
   "execution_count": 6,
   "id": "256ce047-f483-47e3-a618-f9ab809554d2",
   "metadata": {},
   "outputs": [],
   "source": [
    "import random\n",
    "from datetime import date, timedelta\n",
    "from datetime import datetime as dt\n",
    "import pandas as pd\n",
    "import os"
   ]
  },
  {
   "cell_type": "code",
   "execution_count": 2,
   "id": "65bbf09e-5d1b-4161-9e85-a4d3107d1c05",
   "metadata": {},
   "outputs": [],
   "source": [
    "def getRandomTime(min_x, max_x, start_time):\n",
    "    start_time = dt.strptime(start_time, \"%Y-%m-%dT%H:%M:%S:%f\")\n",
    "    # min and max duration of the activity %H:%M:%S\n",
    "    min_duration = dt.combine(date.min, dt.strptime(min_x, \"%H:%M:%S:%f\").time())\n",
    "    max_duration = dt.combine(date.min, dt.strptime(max_x, \"%H:%M:%S:%f\").time()) \n",
    "    # get a ramdom millisec value between min and max duration\n",
    "    millisec = random.randint(0, int(((max_duration - min_duration).total_seconds())*1000))\n",
    "    # sum the start date and the calculated random value\n",
    "    min_x = dt.strptime(min_x, '%H:%M:%S:%f')\n",
    "    b = timedelta(hours= min_x.hour, minutes = min_x.minute, seconds = min_x.second, milliseconds = min_x.microsecond)\n",
    "    random_duration = start_time + timedelta(milliseconds = millisec) + b\n",
    "    return (random_duration.strftime('%Y-%m-%dT%H:%M:%S:%f'), millisec+int(b.total_seconds()*1000))    "
   ]
  },
  {
   "cell_type": "code",
   "execution_count": 3,
   "id": "2533f851-38a9-4297-8866-b4766ff4e3d8",
   "metadata": {},
   "outputs": [],
   "source": [
    "def getBathrTime(start_time, h, bdurations):\n",
    "    #I assume that the person is always going to the bathroom in the middle of the night. \n",
    "    #If we consider a sleeping range of 8:30-9 hours, if freq = 1, after 4 to 5 h the person is usually going to the bathroom\n",
    "    #If freq = 2, after 2 to 3 and then after other 2 to 3 hours the person is usually going to the bathroom\n",
    "    starting_bathr_time = (dt.strptime(start_time, '%Y-%m-%dT%H:%M:%S:%f') + timedelta(hours=h)).strftime('%Y-%m-%dT%H:%M:%S:%f')\n",
    "    bathr_time = getRandomTime(\"00:00:00:00\", \"01:00:00:00\", starting_bathr_time)\n",
    "    delayed_bathr_time = addDelay(bathr_time[0])\n",
    "    #now we calculate the duration, that is between 6 and 16 minutes\n",
    "    duration = getRandomTime(bdurations[0],bdurations[1], delayed_bathr_time)\n",
    "    enter_bed = addDelay(duration[0])\n",
    "    return bathr_time, delayed_bathr_time, duration, enter_bed\n",
    "def getRemainingSleepingTime(start_time, millis):\n",
    "    #now we sum the sleeping hours to the time spent in the bathroom to obtain the wakeup time\n",
    "    a = getRandomTime(\"08:30:00:00\", \"09:00:00:00\", start_time)\n",
    "    return (dt.strptime(a[0], '%Y-%m-%dT%H:%M:%S:%f') + timedelta(milliseconds=millis)).strftime('%Y-%m-%dT%H:%M:%S:%f')\n",
    "def addDelay(time):\n",
    "    #delay tra le attivazioni, tra i 40 e i 200 secondi\n",
    "    delay = random.randint(40, 200)\n",
    "    return (dt.strptime(time, '%Y-%m-%dT%H:%M:%S:%f') + timedelta(seconds=delay)).strftime('%Y-%m-%dT%H:%M:%S:%f')"
   ]
  },
  {
   "cell_type": "code",
   "execution_count": 4,
   "id": "c03d0d82-2049-4755-b425-3ba50b518ca3",
   "metadata": {},
   "outputs": [],
   "source": [
    "def createEventLog(rep, min_freq, max_freq, bdurations):\n",
    "    start_time = dt(2022, 1, 1, 21, 30, 0, 0).strftime('%Y-%m-%dT%H:%M:%S:%f')\n",
    "    day = []\n",
    "    #the person can go to the bathroom from 1 to 2 times per night, with a stay between 6 and 16 minutes\n",
    "\n",
    "    for j in range(rep):\n",
    "        #get a random time to go to sleep, between 21:30 and 23:00\n",
    "        #same for waking up\n",
    "        start_time_rnd = getRandomTime(\"00:00:00:00\", \"02:00:00:00\", start_time)\n",
    "        waking_up = getRandomTime(\"08:30:00:00\", \"09:00:00:00\", start_time_rnd[0])\n",
    "        getting_up = addDelay(waking_up[0])\n",
    "        total_time = dt.strptime(waking_up[0], '%Y-%m-%dT%H:%M:%S:%f') - dt.strptime(start_time_rnd[0], '%Y-%m-%dT%H:%M:%S:%f')\n",
    "\n",
    "        total_hours = (total_time.total_seconds() / 60)/60\n",
    "        freq_bath = random.randint(min_freq,max_freq)\n",
    "        intervals = int(total_hours/(freq_bath+1))\n",
    "        counter = freq_bath\n",
    "\n",
    "        millis_bath = 0\n",
    "        strt = start_time_rnd[0]\n",
    "        while counter>=1:\n",
    "            #I assume that the person is always going to the bathroom in the middle of the night. If we consider a sleeping range of 8:30-9 hours, after 2 to 3 and then after other 2 to 3 hours the person is usually going to the bathroom\n",
    "            # x[0][0] leave bedroom time\n",
    "            # x[1] enter bathroom time\n",
    "            # x[2][0] end bathroom time\n",
    "            # x[3] enter bedroom\n",
    "            x = getBathrTime(strt, intervals, bdurations)\n",
    "\n",
    "            remaining_time = dt.strptime(waking_up[0], '%Y-%m-%dT%H:%M:%S:%f') - dt.strptime(x[3], '%Y-%m-%dT%H:%M:%S:%f')\n",
    "            #print(\"TT\", total_time.total_seconds(), \"-RT\", remaining_time.total_seconds())\n",
    "            remaining_sec = total_time.total_seconds() - remaining_time.total_seconds()\n",
    "            if (remaining_time.total_seconds()<1000):\n",
    "                break\n",
    "\n",
    "            day.append([j, \"Sleep\", strt, x[0][0]])\n",
    "            day.append([j,\"Bathroom\", x[1], x[2][0]])\n",
    "\n",
    "            millis_bath = millis_bath + x[2][1]\n",
    "            strt = x[3]\n",
    "            counter = counter - 1\n",
    "        \n",
    "        day.append([j,\"Sleep\",  strt, waking_up[0]])\n",
    "        day.append([j,\"Get_up\",  getting_up, addDelay(getting_up)])\n",
    "\n",
    "\n",
    "        start_time_temp = dt.strptime(start_time, \"%Y-%m-%dT%H:%M:%S:%f\")\n",
    "        start_time = (start_time_temp + timedelta(days=1)).strftime('%Y-%m-%dT%H:%M:%S:%f')\n",
    "    return day"
   ]
  },
  {
   "cell_type": "code",
   "execution_count": 11,
   "id": "082d3996-3faa-4d16-adeb-feec017cf661",
   "metadata": {},
   "outputs": [
    {
     "name": "stdout",
     "output_type": "stream",
     "text": [
      "yes\n"
     ]
    },
    {
     "name": "stderr",
     "output_type": "stream",
     "text": [
      "c:\\Users\\gdfe\\AppData\\Local\\Programs\\Python\\Python310\\lib\\site-packages\\tqdm\\auto.py:22: TqdmWarning: IProgress not found. Please update jupyter and ipywidgets. See https://ipywidgets.readthedocs.io/en/stable/user_install.html\n",
      "  from .autonotebook import tqdm as notebook_tqdm\n",
      "exporting log, completed traces :: 100%|██████████| 1000/1000 [00:00<00:00, 1269.38it/s]\n",
      "exporting log, completed traces :: 100%|██████████| 1000/1000 [00:01<00:00, 613.29it/s]\n",
      "exporting log, completed traces :: 100%|██████████| 1000/1000 [00:00<00:00, 1262.45it/s]\n"
     ]
    }
   ],
   "source": [
    "from pm4py.objects.log.exporter.xes import exporter as xes_exporter\n",
    "from pm4py.objects.conversion.log import converter as log_converter\n",
    "import pm4py\n",
    "\n",
    "PATH = '../Scenario1'\n",
    "if not os.path.exists(PATH):\n",
    "    os.makedirs(PATH)\n",
    "\n",
    "bdurations = [\"00:06:00:00\", \"00:10:00:00\"]\n",
    "bdurations_long = [\"00:25:00:00\", \"00:40:00:00\"]\n",
    "cols = ['case_id','activity', 'start_timestamp', 'complete_time']\n",
    "\n",
    "\n",
    "#createEventLog(n of traces, min bath, max bath, bath durations)\n",
    "log = createEventLog(1000, 0, 2, bdurations)\n",
    "df = pd.DataFrame(log, columns = cols)\n",
    "event_log = pm4py.format_dataframe(df, case_id='case_id', activity_key='activity', timestamp_key='complete_time', start_timestamp_key='start_timestamp', timest_format=\"%Y-%m-%dT%H:%M:%S:%f\")\n",
    "pm4py.write_xes(event_log, '../Scenario1/logNormal.xes')\n",
    "\n",
    "log2 = createEventLog(1000, 4, 8, bdurations)\n",
    "df2 = pd.DataFrame(log2, columns = cols)\n",
    "event_log2 = pm4py.format_dataframe(df2, case_id='case_id', activity_key='activity',  timestamp_key='complete_time', start_timestamp_key='start_timestamp', timest_format=\"%Y-%m-%dT%H:%M:%S:%f\")\n",
    "pm4py.write_xes(event_log2, '../Scenario1/logFreq.xes')\n",
    "\n",
    "log3 = createEventLog(1000, 0, 2, bdurations_long)\n",
    "df3 = pd.DataFrame(log3, columns = cols)\n",
    "event_log3 = pm4py.format_dataframe(df3, case_id='case_id', activity_key='activity',  timestamp_key='complete_time', start_timestamp_key='start_timestamp', timest_format=\"%Y-%m-%dT%H:%M:%S:%f\")\n",
    "pm4py.write_xes(event_log3, '../Scenario1/logDur.xes')"
   ]
  }
 ],
 "metadata": {
  "interpreter": {
   "hash": "1b5acb681577528e2aff85da35659397b1a3d39ac070b6fb3442068ab6131df9"
  },
  "kernelspec": {
   "display_name": "Python 3.10.4 64-bit",
   "language": "python",
   "name": "python3"
  },
  "language_info": {
   "codemirror_mode": {
    "name": "ipython",
    "version": 3
   },
   "file_extension": ".py",
   "mimetype": "text/x-python",
   "name": "python",
   "nbconvert_exporter": "python",
   "pygments_lexer": "ipython3",
   "version": "3.10.4"
  }
 },
 "nbformat": 4,
 "nbformat_minor": 5
}
